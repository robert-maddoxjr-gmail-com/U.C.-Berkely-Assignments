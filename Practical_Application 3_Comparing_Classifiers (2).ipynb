{
 "cells": [
  {
   "cell_type": "markdown",
   "metadata": {},
   "source": [
    "# Practical Application III: Comparing Classifiers\n",
    "\n",
    "**Overview**: In this practical application, your goal is to compare the performance of the classifiers we encountered in this section, namely K Nearest Neighbor, Logistic Regression, Decision Trees, and Support Vector Machines.  We will utilize a dataset related to marketing bank products over the telephone.  \n",
    "\n"
   ]
  },
  {
   "cell_type": "markdown",
   "metadata": {},
   "source": [
    "### Getting Started\n",
    "\n",
    "Our dataset comes from the UCI Machine Learning repository [link](https://archive.ics.uci.edu/ml/datasets/bank+marketing).  The data is from a Portugese banking institution and is a collection of the results of multiple marketing campaigns.  We will make use of the article accompanying the dataset [here](CRISP-DM-BANK.pdf) for more information on the data and features.\n",
    "\n"
   ]
  },
  {
   "cell_type": "markdown",
   "metadata": {},
   "source": [
    "### Problem 1: Understanding the Data\n",
    "\n",
    "To gain a better understanding of the data, please read the information provided in the UCI link above, and examine the **Materials and Methods** section of the paper.  How many marketing campaigns does this data represent?"
   ]
  },
  {
   "cell_type": "markdown",
   "metadata": {},
   "source": [
    "### Problem 2: Read in the Data\n",
    "\n",
    "Use pandas to read in the dataset `bank-additional-full.csv` and assign to a meaningful variable name."
   ]
  },
  {
   "cell_type": "code",
   "execution_count": 53,
   "metadata": {},
   "outputs": [],
   "source": [
    "import pandas as pd"
   ]
  },
  {
   "cell_type": "code",
   "execution_count": 54,
   "metadata": {},
   "outputs": [],
   "source": [
    "df = pd.read_csv(\"bank-additional-full.csv\", sep=\";\")"
   ]
  },
  {
   "cell_type": "code",
   "execution_count": 55,
   "metadata": {},
   "outputs": [
    {
     "data": {
      "text/plain": [
       "(41188, 21)"
      ]
     },
     "execution_count": 55,
     "metadata": {},
     "output_type": "execute_result"
    }
   ],
   "source": [
    "df.shape"
   ]
  },
  {
   "cell_type": "code",
   "execution_count": 56,
   "metadata": {},
   "outputs": [
    {
     "name": "stdout",
     "output_type": "stream",
     "text": [
      "<class 'pandas.core.frame.DataFrame'>\n",
      "RangeIndex: 41188 entries, 0 to 41187\n",
      "Data columns (total 21 columns):\n",
      " #   Column          Non-Null Count  Dtype  \n",
      "---  ------          --------------  -----  \n",
      " 0   age             41188 non-null  int64  \n",
      " 1   job             41188 non-null  object \n",
      " 2   marital         41188 non-null  object \n",
      " 3   education       41188 non-null  object \n",
      " 4   default         41188 non-null  object \n",
      " 5   housing         41188 non-null  object \n",
      " 6   loan            41188 non-null  object \n",
      " 7   contact         41188 non-null  object \n",
      " 8   month           41188 non-null  object \n",
      " 9   day_of_week     41188 non-null  object \n",
      " 10  duration        41188 non-null  int64  \n",
      " 11  campaign        41188 non-null  int64  \n",
      " 12  pdays           41188 non-null  int64  \n",
      " 13  previous        41188 non-null  int64  \n",
      " 14  poutcome        41188 non-null  object \n",
      " 15  emp.var.rate    41188 non-null  float64\n",
      " 16  cons.price.idx  41188 non-null  float64\n",
      " 17  cons.conf.idx   41188 non-null  float64\n",
      " 18  euribor3m       41188 non-null  float64\n",
      " 19  nr.employed     41188 non-null  float64\n",
      " 20  y               41188 non-null  object \n",
      "dtypes: float64(5), int64(5), object(11)\n",
      "memory usage: 6.6+ MB\n"
     ]
    }
   ],
   "source": [
    "df.info()"
   ]
  },
  {
   "cell_type": "code",
   "execution_count": 57,
   "metadata": {},
   "outputs": [
    {
     "data": {
      "text/html": [
       "<div>\n",
       "<style scoped>\n",
       "    .dataframe tbody tr th:only-of-type {\n",
       "        vertical-align: middle;\n",
       "    }\n",
       "\n",
       "    .dataframe tbody tr th {\n",
       "        vertical-align: top;\n",
       "    }\n",
       "\n",
       "    .dataframe thead th {\n",
       "        text-align: right;\n",
       "    }\n",
       "</style>\n",
       "<table border=\"1\" class=\"dataframe\">\n",
       "  <thead>\n",
       "    <tr style=\"text-align: right;\">\n",
       "      <th></th>\n",
       "      <th>age</th>\n",
       "      <th>job</th>\n",
       "      <th>marital</th>\n",
       "      <th>education</th>\n",
       "      <th>default</th>\n",
       "      <th>housing</th>\n",
       "      <th>loan</th>\n",
       "      <th>contact</th>\n",
       "      <th>month</th>\n",
       "      <th>day_of_week</th>\n",
       "      <th>...</th>\n",
       "      <th>campaign</th>\n",
       "      <th>pdays</th>\n",
       "      <th>previous</th>\n",
       "      <th>poutcome</th>\n",
       "      <th>emp.var.rate</th>\n",
       "      <th>cons.price.idx</th>\n",
       "      <th>cons.conf.idx</th>\n",
       "      <th>euribor3m</th>\n",
       "      <th>nr.employed</th>\n",
       "      <th>y</th>\n",
       "    </tr>\n",
       "  </thead>\n",
       "  <tbody>\n",
       "    <tr>\n",
       "      <th>0</th>\n",
       "      <td>56</td>\n",
       "      <td>housemaid</td>\n",
       "      <td>married</td>\n",
       "      <td>basic.4y</td>\n",
       "      <td>no</td>\n",
       "      <td>no</td>\n",
       "      <td>no</td>\n",
       "      <td>telephone</td>\n",
       "      <td>may</td>\n",
       "      <td>mon</td>\n",
       "      <td>...</td>\n",
       "      <td>1</td>\n",
       "      <td>999</td>\n",
       "      <td>0</td>\n",
       "      <td>nonexistent</td>\n",
       "      <td>1.1</td>\n",
       "      <td>93.994</td>\n",
       "      <td>-36.4</td>\n",
       "      <td>4.857</td>\n",
       "      <td>5191.0</td>\n",
       "      <td>no</td>\n",
       "    </tr>\n",
       "    <tr>\n",
       "      <th>1</th>\n",
       "      <td>57</td>\n",
       "      <td>services</td>\n",
       "      <td>married</td>\n",
       "      <td>high.school</td>\n",
       "      <td>unknown</td>\n",
       "      <td>no</td>\n",
       "      <td>no</td>\n",
       "      <td>telephone</td>\n",
       "      <td>may</td>\n",
       "      <td>mon</td>\n",
       "      <td>...</td>\n",
       "      <td>1</td>\n",
       "      <td>999</td>\n",
       "      <td>0</td>\n",
       "      <td>nonexistent</td>\n",
       "      <td>1.1</td>\n",
       "      <td>93.994</td>\n",
       "      <td>-36.4</td>\n",
       "      <td>4.857</td>\n",
       "      <td>5191.0</td>\n",
       "      <td>no</td>\n",
       "    </tr>\n",
       "    <tr>\n",
       "      <th>2</th>\n",
       "      <td>37</td>\n",
       "      <td>services</td>\n",
       "      <td>married</td>\n",
       "      <td>high.school</td>\n",
       "      <td>no</td>\n",
       "      <td>yes</td>\n",
       "      <td>no</td>\n",
       "      <td>telephone</td>\n",
       "      <td>may</td>\n",
       "      <td>mon</td>\n",
       "      <td>...</td>\n",
       "      <td>1</td>\n",
       "      <td>999</td>\n",
       "      <td>0</td>\n",
       "      <td>nonexistent</td>\n",
       "      <td>1.1</td>\n",
       "      <td>93.994</td>\n",
       "      <td>-36.4</td>\n",
       "      <td>4.857</td>\n",
       "      <td>5191.0</td>\n",
       "      <td>no</td>\n",
       "    </tr>\n",
       "    <tr>\n",
       "      <th>3</th>\n",
       "      <td>40</td>\n",
       "      <td>admin.</td>\n",
       "      <td>married</td>\n",
       "      <td>basic.6y</td>\n",
       "      <td>no</td>\n",
       "      <td>no</td>\n",
       "      <td>no</td>\n",
       "      <td>telephone</td>\n",
       "      <td>may</td>\n",
       "      <td>mon</td>\n",
       "      <td>...</td>\n",
       "      <td>1</td>\n",
       "      <td>999</td>\n",
       "      <td>0</td>\n",
       "      <td>nonexistent</td>\n",
       "      <td>1.1</td>\n",
       "      <td>93.994</td>\n",
       "      <td>-36.4</td>\n",
       "      <td>4.857</td>\n",
       "      <td>5191.0</td>\n",
       "      <td>no</td>\n",
       "    </tr>\n",
       "    <tr>\n",
       "      <th>4</th>\n",
       "      <td>56</td>\n",
       "      <td>services</td>\n",
       "      <td>married</td>\n",
       "      <td>high.school</td>\n",
       "      <td>no</td>\n",
       "      <td>no</td>\n",
       "      <td>yes</td>\n",
       "      <td>telephone</td>\n",
       "      <td>may</td>\n",
       "      <td>mon</td>\n",
       "      <td>...</td>\n",
       "      <td>1</td>\n",
       "      <td>999</td>\n",
       "      <td>0</td>\n",
       "      <td>nonexistent</td>\n",
       "      <td>1.1</td>\n",
       "      <td>93.994</td>\n",
       "      <td>-36.4</td>\n",
       "      <td>4.857</td>\n",
       "      <td>5191.0</td>\n",
       "      <td>no</td>\n",
       "    </tr>\n",
       "  </tbody>\n",
       "</table>\n",
       "<p>5 rows × 21 columns</p>\n",
       "</div>"
      ],
      "text/plain": [
       "   age        job  marital    education  default housing loan    contact  \\\n",
       "0   56  housemaid  married     basic.4y       no      no   no  telephone   \n",
       "1   57   services  married  high.school  unknown      no   no  telephone   \n",
       "2   37   services  married  high.school       no     yes   no  telephone   \n",
       "3   40     admin.  married     basic.6y       no      no   no  telephone   \n",
       "4   56   services  married  high.school       no      no  yes  telephone   \n",
       "\n",
       "  month day_of_week  ...  campaign  pdays  previous     poutcome emp.var.rate  \\\n",
       "0   may         mon  ...         1    999         0  nonexistent          1.1   \n",
       "1   may         mon  ...         1    999         0  nonexistent          1.1   \n",
       "2   may         mon  ...         1    999         0  nonexistent          1.1   \n",
       "3   may         mon  ...         1    999         0  nonexistent          1.1   \n",
       "4   may         mon  ...         1    999         0  nonexistent          1.1   \n",
       "\n",
       "   cons.price.idx  cons.conf.idx  euribor3m  nr.employed   y  \n",
       "0          93.994          -36.4      4.857       5191.0  no  \n",
       "1          93.994          -36.4      4.857       5191.0  no  \n",
       "2          93.994          -36.4      4.857       5191.0  no  \n",
       "3          93.994          -36.4      4.857       5191.0  no  \n",
       "4          93.994          -36.4      4.857       5191.0  no  \n",
       "\n",
       "[5 rows x 21 columns]"
      ]
     },
     "execution_count": 57,
     "metadata": {},
     "output_type": "execute_result"
    }
   ],
   "source": [
    "df.head()"
   ]
  },
  {
   "cell_type": "markdown",
   "metadata": {},
   "source": [
    "### Problem 3: Understanding the Features\n",
    "\n",
    "\n",
    "Examine the data description below, and determine if any of the features are missing values or need to be coerced to a different data type.\n",
    "\n",
    "\n",
    "```\n",
    "Input variables:\n",
    "# bank client data:\n",
    "1 - age (numeric)\n",
    "2 - job : type of job (categorical: 'admin.','blue-collar','entrepreneur','housemaid','management','retired','self-employed','services','student','technician','unemployed','unknown')\n",
    "3 - marital : marital status (categorical: 'divorced','married','single','unknown'; note: 'divorced' means divorced or widowed)\n",
    "4 - education (categorical: 'basic.4y','basic.6y','basic.9y','high.school','illiterate','professional.course','university.degree','unknown')\n",
    "5 - default: has credit in default? (categorical: 'no','yes','unknown')\n",
    "6 - housing: has housing loan? (categorical: 'no','yes','unknown')\n",
    "7 - loan: has personal loan? (categorical: 'no','yes','unknown')\n",
    "# related with the last contact of the current campaign:\n",
    "8 - contact: contact communication type (categorical: 'cellular','telephone')\n",
    "9 - month: last contact month of year (categorical: 'jan', 'feb', 'mar', ..., 'nov', 'dec')\n",
    "10 - day_of_week: last contact day of the week (categorical: 'mon','tue','wed','thu','fri')\n",
    "11 - duration: last contact duration, in seconds (numeric). Important note: this attribute highly affects the output target (e.g., if duration=0 then y='no'). Yet, the duration is not known before a call is performed. Also, after the end of the call y is obviously known. Thus, this input should only be included for benchmark purposes and should be discarded if the intention is to have a realistic predictive model.\n",
    "# other attributes:\n",
    "12 - campaign: number of contacts performed during this campaign and for this client (numeric, includes last contact)\n",
    "13 - pdays: number of days that passed by after the client was last contacted from a previous campaign (numeric; 999 means client was not previously contacted)\n",
    "14 - previous: number of contacts performed before this campaign and for this client (numeric)\n",
    "15 - poutcome: outcome of the previous marketing campaign (categorical: 'failure','nonexistent','success')\n",
    "# social and economic context attributes\n",
    "16 - emp.var.rate: employment variation rate - quarterly indicator (numeric)\n",
    "17 - cons.price.idx: consumer price index - monthly indicator (numeric)\n",
    "18 - cons.conf.idx: consumer confidence index - monthly indicator (numeric)\n",
    "19 - euribor3m: euribor 3 month rate - daily indicator (numeric)\n",
    "20 - nr.employed: number of employees - quarterly indicator (numeric)\n",
    "\n",
    "Output variable (desired target):\n",
    "21 - y - has the client subscribed a term deposit? (binary: 'yes','no')\n",
    "```\n",
    "\n"
   ]
  },
  {
   "cell_type": "code",
   "execution_count": 58,
   "metadata": {},
   "outputs": [
    {
     "name": "stdout",
     "output_type": "stream",
     "text": [
      "Nan counts per column:\n",
      "age               0\n",
      "job               0\n",
      "marital           0\n",
      "education         0\n",
      "default           0\n",
      "housing           0\n",
      "loan              0\n",
      "contact           0\n",
      "month             0\n",
      "day_of_week       0\n",
      "duration          0\n",
      "campaign          0\n",
      "pdays             0\n",
      "previous          0\n",
      "poutcome          0\n",
      "emp.var.rate      0\n",
      "cons.price.idx    0\n",
      "cons.conf.idx     0\n",
      "euribor3m         0\n",
      "nr.employed       0\n",
      "y                 0\n",
      "dtype: int64\n",
      "/n 'Unkown' counts per column:\n"
     ]
    },
    {
     "data": {
      "text/plain": [
       "age                  0\n",
       "job                330\n",
       "marital             80\n",
       "education         1731\n",
       "default           8597\n",
       "housing            990\n",
       "loan               990\n",
       "contact              0\n",
       "month                0\n",
       "day_of_week          0\n",
       "duration             0\n",
       "campaign             0\n",
       "pdays                0\n",
       "previous             0\n",
       "poutcome             0\n",
       "emp.var.rate         0\n",
       "cons.price.idx       0\n",
       "cons.conf.idx        0\n",
       "euribor3m            0\n",
       "nr.employed          0\n",
       "y                    0\n",
       "dtype: int64"
      ]
     },
     "execution_count": 58,
     "metadata": {},
     "output_type": "execute_result"
    }
   ],
   "source": [
    "# Check for NaN type missing values\n",
    "print(\"Nan counts per column:\")\n",
    "print(df.isnull().sum())\n",
    "\n",
    "# Check for 'unknown' placeholders in categorical columns\n",
    "print(\"/n 'Unkown' counts per column:\")\n",
    "(df == \"unknown\").sum(axis=0)"
   ]
  },
  {
   "cell_type": "markdown",
   "metadata": {},
   "source": [
    "## Explanation \n",
    "\n",
    "Although the dataset contains no NaN missing values, several categrical features use \"unknown\" as a \n",
    "placeholder for missing information. These values need to be handled before modeling"
   ]
  },
  {
   "cell_type": "markdown",
   "metadata": {},
   "source": [
    "### Problem 4: Understanding the Task\n",
    "\n",
    "After examining the description and data, your goal now is to clearly state the *Business Objective* of the task.  State the objective below."
   ]
  },
  {
   "cell_type": "code",
   "execution_count": 59,
   "metadata": {},
   "outputs": [
    {
     "name": "stdout",
     "output_type": "stream",
     "text": [
      "<class 'pandas.core.frame.DataFrame'>\n",
      "RangeIndex: 41188 entries, 0 to 41187\n",
      "Data columns (total 21 columns):\n",
      " #   Column          Non-Null Count  Dtype  \n",
      "---  ------          --------------  -----  \n",
      " 0   age             41188 non-null  int64  \n",
      " 1   job             41188 non-null  object \n",
      " 2   marital         41188 non-null  object \n",
      " 3   education       41188 non-null  object \n",
      " 4   default         41188 non-null  object \n",
      " 5   housing         41188 non-null  object \n",
      " 6   loan            41188 non-null  object \n",
      " 7   contact         41188 non-null  object \n",
      " 8   month           41188 non-null  object \n",
      " 9   day_of_week     41188 non-null  object \n",
      " 10  duration        41188 non-null  int64  \n",
      " 11  campaign        41188 non-null  int64  \n",
      " 12  pdays           41188 non-null  int64  \n",
      " 13  previous        41188 non-null  int64  \n",
      " 14  poutcome        41188 non-null  object \n",
      " 15  emp.var.rate    41188 non-null  float64\n",
      " 16  cons.price.idx  41188 non-null  float64\n",
      " 17  cons.conf.idx   41188 non-null  float64\n",
      " 18  euribor3m       41188 non-null  float64\n",
      " 19  nr.employed     41188 non-null  float64\n",
      " 20  y               41188 non-null  object \n",
      "dtypes: float64(5), int64(5), object(11)\n",
      "memory usage: 6.6+ MB\n"
     ]
    }
   ],
   "source": [
    "df.info()"
   ]
  },
  {
   "cell_type": "markdown",
   "metadata": {},
   "source": [
    "## Business Objective\n",
    "\n",
    "The goal of this analysis is to evaluate the effectiveness of the bank’s direct marketing campaigns by predicting whether a client will subscribe to a term deposit (y). By building and comparing multiple classification models, the bank can identify the factors most associated with client conversion, reduce the cost of future campaigns, and improve targeting strategies to increase overall subscription rates."
   ]
  },
  {
   "cell_type": "markdown",
   "metadata": {},
   "source": [
    "### Problem 5: Engineering Features\n",
    "\n",
    "Now that you understand your business objective, we will build a basic model to get started.  Before we can do this, we must work to encode the data.  Using just the bank information features, prepare the features and target column for modeling with appropriate encoding and transformations."
   ]
  },
  {
   "cell_type": "code",
   "execution_count": 60,
   "metadata": {},
   "outputs": [
    {
     "name": "stdout",
     "output_type": "stream",
     "text": [
      "Features and target prepared for modeling!\n"
     ]
    }
   ],
   "source": [
    "from sklearn.preprocessing import OneHotEncoder, LabelEncoder\n",
    "from sklearn.compose import ColumnTransformer\n",
    "from sklearn.pipeline import Pipeline\n",
    "from sklearn.preprocessing import StandardScaler\n",
    "\n",
    "# Select just the bank client information features\n",
    "bank_features = [\"age\", \"job\", \"marital\", \"education\", \"default\", \"housing\", \"loan\"]\n",
    "\n",
    "X = df[bank_features]\n",
    "y = df[\"y\"].map({\"no\": 0, \"yes\": 1})  # target: convert to binary\n",
    "\n",
    "# Separate numeric and categorical columns\n",
    "numeric_features = [\"age\"]\n",
    "categorical_features = [\"job\", \"marital\", \"education\", \"default\", \"housing\", \"loan\"]\n",
    "\n",
    "# Preprocessing pipeline:\n",
    "# - Standardize numeric values (important for some models like KNN and SVM)\n",
    "# - One-hot encode categorical values\n",
    "preprocessor = ColumnTransformer(\n",
    "    transformers=[\n",
    "        (\"num\", StandardScaler(), numeric_features),\n",
    "        (\"cat\", OneHotEncoder(handle_unknown=\"ignore\"), categorical_features)\n",
    "    ]\n",
    ")\n",
    "\n",
    "print(\"Features and target prepared for modeling!\")\n"
   ]
  },
  {
   "cell_type": "markdown",
   "metadata": {},
   "source": [
    "Numeric features are standardized so that it is on the same scale as the other features\n",
    "Categorical features are one-hot encoded allowing models to interpret them correctly. \n",
    "The target column \"y\" is mapped to binary values (yes=1, no=0)."
   ]
  },
  {
   "cell_type": "markdown",
   "metadata": {},
   "source": [
    "### Problem 6: Train/Test Split\n",
    "\n",
    "With your data prepared, split it into a train and test set."
   ]
  },
  {
   "cell_type": "code",
   "execution_count": 61,
   "metadata": {},
   "outputs": [
    {
     "name": "stdout",
     "output_type": "stream",
     "text": [
      "Training set size: 28831\n",
      "Test set size: 12357\n"
     ]
    }
   ],
   "source": [
    "from sklearn.model_selection import train_test_split\n",
    "\n",
    "# Split into training and testing sets\n",
    "X_train, X_test, y_train, y_test = train_test_split(\n",
    "    X, y, \n",
    "    # 30% for testing, 70% for training\n",
    "    test_size=0.3,   \n",
    "    \n",
    "    random_state=42,     # ensures reproducibility\n",
    "    stratify=y           # keeps the class distribution balanced\n",
    ")\n",
    "\n",
    "print(\"Training set size:\", X_train.shape[0])\n",
    "print(\"Test set size:\", X_test.shape[0])\n"
   ]
  },
  {
   "cell_type": "markdown",
   "metadata": {},
   "source": [
    "### Problem 7: A Baseline Model\n",
    "\n",
    "Before we build our first model, we want to establish a baseline Accuracy Score.  "
   ]
  },
  {
   "cell_type": "code",
   "execution_count": 62,
   "metadata": {},
   "outputs": [
    {
     "name": "stdout",
     "output_type": "stream",
     "text": [
      "Baseline Accuracy: 0.8873512988589464\n",
      "\n",
      "Classification Report:\n",
      "               precision    recall  f1-score   support\n",
      "\n",
      "           0       0.89      1.00      0.94     10965\n",
      "           1       0.00      0.00      0.00      1392\n",
      "\n",
      "    accuracy                           0.89     12357\n",
      "   macro avg       0.44      0.50      0.47     12357\n",
      "weighted avg       0.79      0.89      0.83     12357\n",
      "\n"
     ]
    },
    {
     "name": "stderr",
     "output_type": "stream",
     "text": [
      "C:\\Users\\Owner\\anaconda3\\Lib\\site-packages\\sklearn\\metrics\\_classification.py:1706: UndefinedMetricWarning: Precision is ill-defined and being set to 0.0 in labels with no predicted samples. Use `zero_division` parameter to control this behavior.\n",
      "  _warn_prf(average, modifier, f\"{metric.capitalize()} is\", result.shape[0])\n",
      "C:\\Users\\Owner\\anaconda3\\Lib\\site-packages\\sklearn\\metrics\\_classification.py:1706: UndefinedMetricWarning: Precision is ill-defined and being set to 0.0 in labels with no predicted samples. Use `zero_division` parameter to control this behavior.\n",
      "  _warn_prf(average, modifier, f\"{metric.capitalize()} is\", result.shape[0])\n",
      "C:\\Users\\Owner\\anaconda3\\Lib\\site-packages\\sklearn\\metrics\\_classification.py:1706: UndefinedMetricWarning: Precision is ill-defined and being set to 0.0 in labels with no predicted samples. Use `zero_division` parameter to control this behavior.\n",
      "  _warn_prf(average, modifier, f\"{metric.capitalize()} is\", result.shape[0])\n"
     ]
    }
   ],
   "source": [
    "from sklearn.dummy import DummyClassifier\n",
    "from sklearn.metrics import accuracy_score, classification_report\n",
    "\n",
    "# Baseline model: always predict the most frequent class\n",
    "baseline = DummyClassifier(strategy=\"most_frequent\")\n",
    "baseline.fit(X_train, y_train)\n",
    "\n",
    "y_pred_baseline = baseline.predict(X_test)\n",
    "\n",
    "print(\"Baseline Accuracy:\", accuracy_score(y_test, y_pred_baseline))\n",
    "print(\"\\nClassification Report:\\n\", classification_report(y_test, y_pred_baseline))\n"
   ]
  },
  {
   "cell_type": "markdown",
   "metadata": {},
   "source": [
    "## Analysis\n",
    "\n",
    "The baseline model achieved an accuracy of 0.8873512988589464, or when rounded down to 1 decimal point, 88.7%, but the classification report \n",
    "\n",
    "Classification Report:\n",
    "\n",
    "\n",
    "           0       0.89      1.00      0.94     10965\r\n",
    "           1       0.00      0.00      0.00      1392\n",
    "           \n",
    "The label 0 represents customers who said “no”, while the label 1 represents customers who said “yes” in the marketing campaign. When the precision, recall, and F1-score for class 1 are all reported as 0, it means the model failed entirely to predict the minority class — the customers who actually subscribed to the term deposit.s). "
   ]
  },
  {
   "cell_type": "markdown",
   "metadata": {},
   "source": [
    "### Problem 8: A Simple Model\n",
    "\n",
    "Use Logistic Regression to build a basic model on your data.  "
   ]
  },
  {
   "cell_type": "code",
   "execution_count": 63,
   "metadata": {},
   "outputs": [
    {
     "name": "stdout",
     "output_type": "stream",
     "text": [
      "Balanced Logistic Regression Accuracy: 0.593590677348871\n",
      "\n",
      "Classification Report:\n",
      "               precision    recall  f1-score   support\n",
      "\n",
      "           0       0.93      0.59      0.72     10965\n",
      "           1       0.16      0.62      0.26      1392\n",
      "\n",
      "    accuracy                           0.59     12357\n",
      "   macro avg       0.54      0.61      0.49     12357\n",
      "weighted avg       0.84      0.59      0.67     12357\n",
      "\n"
     ]
    }
   ],
   "source": [
    "from sklearn.linear_model import LogisticRegression\n",
    "from sklearn.pipeline import Pipeline\n",
    "from sklearn.metrics import accuracy_score, classification_report\n",
    "\n",
    "# Logistic Regression with class_weight balanced\n",
    "log_reg_balanced = Pipeline(steps=[\n",
    "    (\"preprocessor\", preprocessor), \n",
    "    (\"classifier\", LogisticRegression(max_iter=1000, class_weight=\"balanced\"))\n",
    "])\n",
    "\n",
    "# Train model\n",
    "log_reg_balanced.fit(X_train, y_train)\n",
    "\n",
    "# Predict\n",
    "y_pred_balanced = log_reg_balanced.predict(X_test)\n",
    "\n",
    "# Evaluate\n",
    "print(\"Balanced Logistic Regression Accuracy:\", accuracy_score(y_test, y_pred_balanced))\n",
    "print(\"\\nClassification Report:\\n\", classification_report(y_test, y_pred_balanced))"
   ]
  },
  {
   "cell_type": "markdown",
   "metadata": {},
   "source": [
    "## Analysis\n",
    "By applying class_weight=\"balanced\", the Logistic Regression model shifted from predicting only the majority class (no) to correctly identifying many of the minority class (yes). While overall balanced Logistic Regression accuracy fell to 59.3%, recall for the yes class rose to 62%. This highlights the importance of evaluating multiple metrics beyond accuracy and the value of class balancing in imbalanced datasets."
   ]
  },
  {
   "cell_type": "markdown",
   "metadata": {},
   "source": [
    "### Problem 9: Score the Model\n",
    "\n",
    "What is the accuracy of your model?"
   ]
  },
  {
   "cell_type": "code",
   "execution_count": 64,
   "metadata": {},
   "outputs": [
    {
     "data": {
      "text/plain": [
       "0.593590677348871"
      ]
     },
     "execution_count": 64,
     "metadata": {},
     "output_type": "execute_result"
    }
   ],
   "source": [
    "# Method 1: accuracy via .score()\n",
    "log_reg_balanced.score(X_test, y_test)\n",
    "\n",
    "# Method 2: accuracy via metrics\n",
    "from sklearn.metrics import accuracy_score\n",
    "accuracy_score(y_test, y_pred_balanced)\n"
   ]
  },
  {
   "cell_type": "markdown",
   "metadata": {},
   "source": [
    "### Problem 10: Model Comparisons\n",
    "\n",
    "Now, we aim to compare the performance of the Logistic Regression model to our KNN algorithm, Decision Tree, and SVM models.  Using the default settings for each of the models, fit and score each.  Also, be sure to compare the fit time of each of the models.  Present your findings in a `DataFrame` similar to that below:\n",
    "\n",
    "| Model | Train Time | Train Accuracy | Test Accuracy |\n",
    "| ----- | ---------- | -------------  | -----------   |\n",
    "|     |    |.     |.     |"
   ]
  },
  {
   "cell_type": "code",
   "execution_count": 65,
   "metadata": {},
   "outputs": [
    {
     "name": "stdout",
     "output_type": "stream",
     "text": [
      "Grid searching: Logistic Regression (balanced) ...\n",
      "Grid searching: KNN ...\n",
      "Grid searching: Decision Tree ...\n",
      "Grid searching: SVM (RBF) ...\n"
     ]
    },
    {
     "data": {
      "text/html": [
       "<div>\n",
       "<style scoped>\n",
       "    .dataframe tbody tr th:only-of-type {\n",
       "        vertical-align: middle;\n",
       "    }\n",
       "\n",
       "    .dataframe tbody tr th {\n",
       "        vertical-align: top;\n",
       "    }\n",
       "\n",
       "    .dataframe thead th {\n",
       "        text-align: right;\n",
       "    }\n",
       "</style>\n",
       "<table border=\"1\" class=\"dataframe\">\n",
       "  <thead>\n",
       "    <tr style=\"text-align: right;\">\n",
       "      <th></th>\n",
       "      <th>Model</th>\n",
       "      <th>Best Params</th>\n",
       "      <th>CV Best F1</th>\n",
       "      <th>Train F1</th>\n",
       "      <th>Test F1</th>\n",
       "      <th>Train Acc</th>\n",
       "      <th>Test Acc</th>\n",
       "      <th>Test Recall (Yes)</th>\n",
       "      <th>Fit Time (s)</th>\n",
       "    </tr>\n",
       "  </thead>\n",
       "  <tbody>\n",
       "    <tr>\n",
       "      <th>0</th>\n",
       "      <td>Logistic Regression (balanced)</td>\n",
       "      <td>{'classifier__C': 10, 'classifier__penalty': '...</td>\n",
       "      <td>0.256</td>\n",
       "      <td>0.257</td>\n",
       "      <td>0.257</td>\n",
       "      <td>0.592</td>\n",
       "      <td>0.594</td>\n",
       "      <td>0.624</td>\n",
       "      <td>7.07</td>\n",
       "    </tr>\n",
       "    <tr>\n",
       "      <th>1</th>\n",
       "      <td>KNN</td>\n",
       "      <td>{'classifier__n_neighbors': 3, 'classifier__p'...</td>\n",
       "      <td>0.153</td>\n",
       "      <td>0.473</td>\n",
       "      <td>0.155</td>\n",
       "      <td>0.912</td>\n",
       "      <td>0.861</td>\n",
       "      <td>0.114</td>\n",
       "      <td>31.47</td>\n",
       "    </tr>\n",
       "    <tr>\n",
       "      <th>2</th>\n",
       "      <td>Decision Tree</td>\n",
       "      <td>{'classifier__max_depth': None, 'classifier__m...</td>\n",
       "      <td>0.137</td>\n",
       "      <td>0.458</td>\n",
       "      <td>0.130</td>\n",
       "      <td>0.919</td>\n",
       "      <td>0.864</td>\n",
       "      <td>0.090</td>\n",
       "      <td>2.43</td>\n",
       "    </tr>\n",
       "    <tr>\n",
       "      <th>3</th>\n",
       "      <td>SVM (RBF)</td>\n",
       "      <td>{'classifier__C': 3, 'classifier__gamma': 'sca...</td>\n",
       "      <td>0.027</td>\n",
       "      <td>0.041</td>\n",
       "      <td>0.025</td>\n",
       "      <td>0.889</td>\n",
       "      <td>0.887</td>\n",
       "      <td>0.013</td>\n",
       "      <td>101.56</td>\n",
       "    </tr>\n",
       "  </tbody>\n",
       "</table>\n",
       "</div>"
      ],
      "text/plain": [
       "                            Model  \\\n",
       "0  Logistic Regression (balanced)   \n",
       "1                             KNN   \n",
       "2                   Decision Tree   \n",
       "3                       SVM (RBF)   \n",
       "\n",
       "                                         Best Params  CV Best F1  Train F1  \\\n",
       "0  {'classifier__C': 10, 'classifier__penalty': '...       0.256     0.257   \n",
       "1  {'classifier__n_neighbors': 3, 'classifier__p'...       0.153     0.473   \n",
       "2  {'classifier__max_depth': None, 'classifier__m...       0.137     0.458   \n",
       "3  {'classifier__C': 3, 'classifier__gamma': 'sca...       0.027     0.041   \n",
       "\n",
       "   Test F1  Train Acc  Test Acc  Test Recall (Yes)  Fit Time (s)  \n",
       "0    0.257      0.592     0.594              0.624          7.07  \n",
       "1    0.155      0.912     0.861              0.114         31.47  \n",
       "2    0.130      0.919     0.864              0.090          2.43  \n",
       "3    0.025      0.889     0.887              0.013        101.56  "
      ]
     },
     "execution_count": 65,
     "metadata": {},
     "output_type": "execute_result"
    }
   ],
   "source": [
    "from sklearn.metrics import accuracy_score, f1_score, recall_score\n",
    "\n",
    "rows = []\n",
    "best_models = {}\n",
    "\n",
    "for name, pipe, param_grid in search_spaces:\n",
    "    print(f\"Grid searching: {name} ...\")\n",
    "    gs = GridSearchCV(\n",
    "        estimator=pipe,\n",
    "        param_grid=param_grid,\n",
    "        scoring=\"f1\",\n",
    "        cv=5,\n",
    "        n_jobs=-1,\n",
    "        refit=True,\n",
    "        verbose=0\n",
    "    )\n",
    "    t0 = time.time()\n",
    "    gs.fit(X_train, y_train)\n",
    "    t1 = time.time()\n",
    "\n",
    "    best_models[name] = gs.best_estimator_\n",
    "\n",
    "    y_pred_tr = gs.predict(X_train)\n",
    "    y_pred_te = gs.predict(X_test)\n",
    "\n",
    "    rows.append({\n",
    "        \"Model\": name,\n",
    "        \"Best Params\": gs.best_params_,\n",
    "        \"CV Best F1\": round(gs.best_score_, 3),\n",
    "        \"Train F1\": round(f1_score(y_train, y_pred_tr), 3),\n",
    "        \"Test F1\": round(f1_score(y_test, y_pred_te), 3),\n",
    "        \"Train Acc\": round(accuracy_score(y_train, y_pred_tr), 3),\n",
    "        \"Test Acc\": round(accuracy_score(y_test, y_pred_te), 3),\n",
    "        \"Test Recall (Yes)\": round(recall_score(y_test, y_pred_te), 3),   # 👈 INSERTED HERE\n",
    "        \"Fit Time (s)\": round(t1-t0, 2)\n",
    "    })\n",
    "\n",
    "results_df = pd.DataFrame(rows).sort_values(by=\"Test F1\", ascending=False)\n",
    "results_df\n"
   ]
  },
  {
   "cell_type": "markdown",
   "metadata": {},
   "source": [
    "## Analysis:\n",
    "\n",
    "The Decision Tree achieved the highest training accuracy at 91.9%, but its test accuracy dropped to 86.4%. In contrast, Logistic Regression, KNN, and SVM all maintained test accuracies around 88.7%, very close to their training accuracies.\n",
    "\n",
    "This drop in performance between training and testing for the Decision Tree suggests that it was overfitting — learning the training data too closely and not generalizing as well to new data. Logistic Regression and SVM, while slightly less accurate in training, demonstrated better stability and generalization."
   ]
  },
  {
   "cell_type": "code",
   "execution_count": 67,
   "metadata": {},
   "outputs": [
    {
     "name": "stdout",
     "output_type": "stream",
     "text": [
      "Warning: Column 'Test Recall (Yes Class)' not found in DataFrame. Skipping this metric.\n"
     ]
    },
    {
     "data": {
      "image/png": "[encoded data removed]",
      "text/plain": [
       "<Figure size 1000x600 with 1 Axes>"
      ]
     },
     "metadata": {},
     "output_type": "display_data"
    }
   ],
   "source": [
    "import matplotlib.pyplot as plt\n",
    "import numpy as np\n",
    "\n",
    "# First, check if the column exists with a slightly different name\n",
    "# For this example, I'll assume the correct column name is \"Test Recall (Yes Class)\"\n",
    "# You may need to adjust this based on your actual DataFrame columns\n",
    "metrics = [\"Test Acc\", \"Test F1\", \"Test Recall (Yes Class)\"]  # Changed from \"Test Recall (Yes)\"\n",
    "colors = [\"#1f77b4\", \"#ff7f0e\", \"#2ca02c\"]  # blue, orange, green\n",
    "\n",
    "x = np.arange(len(results_df[\"Model\"]))  # model positions\n",
    "width = 0.25\n",
    "\n",
    "plt.figure(figsize=(10,6))\n",
    "\n",
    "for i, metric in enumerate(metrics):\n",
    "    # Add error handling to check if the column exists\n",
    "    if metric in results_df.columns:\n",
    "        plt.bar(x + i*width - width, results_df[metric], width, label=metric, color=colors[i])\n",
    "    else:\n",
    "        print(f\"Warning: Column '{metric}' not found in DataFrame. Skipping this metric.\")\n",
    "\n",
    "plt.xticks(x, results_df[\"Model\"], rotation=30, ha=\"right\")\n",
    "plt.ylabel(\"Score\")\n",
    "plt.title(\"Model Comparison: Accuracy, F1, and Recall (Yes Class)\")\n",
    "plt.legend()\n",
    "plt.tight_layout()\n",
    "plt.show()"
   ]
  },
  {
   "cell_type": "markdown",
   "metadata": {},
   "source": [
    "### Problem 11: Improving the Model\n",
    "\n",
    "Now that we have some basic models on the board, we want to try to improve these.  Below, we list a few things to explore in this pursuit.\n",
    "\n",
    "- More feature engineering and exploration.  For example, should we keep the gender feature?  Why or why not?\n",
    "- Hyperparameter tuning and grid search.  All of our models have additional hyperparameters to tune and explore.  For example the number of neighbors in KNN or the maximum depth of a Decision Tree.  \n",
    "- Adjust your performance metric"
   ]
  },
  {
   "cell_type": "code",
   "execution_count": 68,
   "metadata": {},
   "outputs": [],
   "source": [
    "import time, pandas as pd\n",
    "from sklearn.pipeline import Pipeline\n",
    "from sklearn.model_selection import GridSearchCV\n",
    "from sklearn.metrics import accuracy_score, f1_score, classification_report\n",
    "\n",
    "from sklearn.linear_model import LogisticRegression\n",
    "from sklearn.neighbors import KNeighborsClassifier\n",
    "from sklearn.tree import DecisionTreeClassifier\n",
    "from sklearn.svm import SVC"
   ]
  },
  {
   "cell_type": "code",
   "execution_count": 69,
   "metadata": {},
   "outputs": [],
   "source": [
    "# Pipelines + param grids\n",
    "search_spaces = [\n",
    "    (\n",
    "        \"Logistic Regression (balanced)\",\n",
    "        Pipeline([(\"preprocessor\", preprocessor),\n",
    "                  (\"classifier\", LogisticRegression(max_iter=1000, class_weight=\"balanced\"))]),\n",
    "        {\n",
    "            \"classifier__C\": [0.1, 1, 3, 10],\n",
    "            \"classifier__penalty\": [\"l2\"],\n",
    "            \"classifier__solver\": [\"lbfgs\", \"liblinear\"],\n",
    "        }\n",
    "    ),\n",
    "    (\n",
    "        \"KNN\",\n",
    "        Pipeline([(\"preprocessor\", preprocessor),\n",
    "                  (\"classifier\", KNeighborsClassifier())]),\n",
    "        {\n",
    "            \"classifier__n_neighbors\": [3, 5, 9, 15],\n",
    "            \"classifier__weights\": [\"uniform\", \"distance\"],\n",
    "            \"classifier__p\": [1, 2],  # Manhattan vs Euclidean\n",
    "        }\n",
    "    ),\n",
    "    (\n",
    "        \"Decision Tree\",\n",
    "        Pipeline([(\"preprocessor\", preprocessor),\n",
    "                  (\"classifier\", DecisionTreeClassifier(random_state=42))]),\n",
    "        {\n",
    "            \"classifier__max_depth\": [3, 5, 10, None],\n",
    "            \"classifier__min_samples_split\": [2, 10, 20],\n",
    "            \"classifier__min_samples_leaf\": [1, 5, 10],\n",
    "        }\n",
    "    ),\n",
    "    (\n",
    "        \"SVM (RBF)\",\n",
    "        Pipeline([(\"preprocessor\", preprocessor),\n",
    "                  (\"classifier\", SVC(kernel=\"rbf\", probability=False))]),  # set probability=True only if you need ROC curves\n",
    "        {\n",
    "            \"classifier__C\": [0.5, 1, 3],\n",
    "            \"classifier__gamma\": [\"scale\", 0.1, 0.01],\n",
    "        }\n",
    "    ),\n",
    "]\n"
   ]
  },
  {
   "cell_type": "code",
   "execution_count": 72,
   "metadata": {},
   "outputs": [
    {
     "name": "stdout",
     "output_type": "stream",
     "text": [
      "Grid searching: Logistic Regression (balanced) ...\n",
      "Grid searching: KNN ...\n",
      "Grid searching: Decision Tree ...\n",
      "Grid searching: SVM (RBF) ...\n"
     ]
    },
    {
     "data": {
      "text/html": [
       "<div>\n",
       "<style scoped>\n",
       "    .dataframe tbody tr th:only-of-type {\n",
       "        vertical-align: middle;\n",
       "    }\n",
       "\n",
       "    .dataframe tbody tr th {\n",
       "        vertical-align: top;\n",
       "    }\n",
       "\n",
       "    .dataframe thead th {\n",
       "        text-align: right;\n",
       "    }\n",
       "</style>\n",
       "<table border=\"1\" class=\"dataframe\">\n",
       "  <thead>\n",
       "    <tr style=\"text-align: right;\">\n",
       "      <th></th>\n",
       "      <th>Model</th>\n",
       "      <th>Best Params</th>\n",
       "      <th>CV Best F1</th>\n",
       "      <th>Train F1</th>\n",
       "      <th>Test F1</th>\n",
       "      <th>Train Acc</th>\n",
       "      <th>Test Acc</th>\n",
       "      <th>Test Recall (Yes)</th>\n",
       "      <th>Fit Time (s)</th>\n",
       "    </tr>\n",
       "  </thead>\n",
       "  <tbody>\n",
       "    <tr>\n",
       "      <th>0</th>\n",
       "      <td>Logistic Regression (balanced)</td>\n",
       "      <td>{'classifier__C': 10, 'classifier__penalty': '...</td>\n",
       "      <td>0.256</td>\n",
       "      <td>0.257</td>\n",
       "      <td>0.257</td>\n",
       "      <td>0.592</td>\n",
       "      <td>0.594</td>\n",
       "      <td>0.624</td>\n",
       "      <td>249.76</td>\n",
       "    </tr>\n",
       "    <tr>\n",
       "      <th>1</th>\n",
       "      <td>KNN</td>\n",
       "      <td>{'classifier__n_neighbors': 3, 'classifier__p'...</td>\n",
       "      <td>0.153</td>\n",
       "      <td>0.473</td>\n",
       "      <td>0.155</td>\n",
       "      <td>0.912</td>\n",
       "      <td>0.861</td>\n",
       "      <td>0.114</td>\n",
       "      <td>34.84</td>\n",
       "    </tr>\n",
       "    <tr>\n",
       "      <th>2</th>\n",
       "      <td>Decision Tree</td>\n",
       "      <td>{'classifier__max_depth': None, 'classifier__m...</td>\n",
       "      <td>0.137</td>\n",
       "      <td>0.458</td>\n",
       "      <td>0.130</td>\n",
       "      <td>0.919</td>\n",
       "      <td>0.864</td>\n",
       "      <td>0.090</td>\n",
       "      <td>3.14</td>\n",
       "    </tr>\n",
       "    <tr>\n",
       "      <th>3</th>\n",
       "      <td>SVM (RBF)</td>\n",
       "      <td>{'classifier__C': 3, 'classifier__gamma': 'sca...</td>\n",
       "      <td>0.027</td>\n",
       "      <td>0.041</td>\n",
       "      <td>0.025</td>\n",
       "      <td>0.889</td>\n",
       "      <td>0.887</td>\n",
       "      <td>0.013</td>\n",
       "      <td>101.37</td>\n",
       "    </tr>\n",
       "  </tbody>\n",
       "</table>\n",
       "</div>"
      ],
      "text/plain": [
       "                            Model  \\\n",
       "0  Logistic Regression (balanced)   \n",
       "1                             KNN   \n",
       "2                   Decision Tree   \n",
       "3                       SVM (RBF)   \n",
       "\n",
       "                                         Best Params  CV Best F1  Train F1  \\\n",
       "0  {'classifier__C': 10, 'classifier__penalty': '...       0.256     0.257   \n",
       "1  {'classifier__n_neighbors': 3, 'classifier__p'...       0.153     0.473   \n",
       "2  {'classifier__max_depth': None, 'classifier__m...       0.137     0.458   \n",
       "3  {'classifier__C': 3, 'classifier__gamma': 'sca...       0.027     0.041   \n",
       "\n",
       "   Test F1  Train Acc  Test Acc  Test Recall (Yes)  Fit Time (s)  \n",
       "0    0.257      0.592     0.594              0.624        249.76  \n",
       "1    0.155      0.912     0.861              0.114         34.84  \n",
       "2    0.130      0.919     0.864              0.090          3.14  \n",
       "3    0.025      0.889     0.887              0.013        101.37  "
      ]
     },
     "execution_count": 72,
     "metadata": {},
     "output_type": "execute_result"
    }
   ],
   "source": [
    "from sklearn.metrics import accuracy_score, f1_score, recall_score\n",
    "\n",
    "rows = []\n",
    "best_models = {}\n",
    "\n",
    "for name, pipe, param_grid in search_spaces:\n",
    "    print(f\"Grid searching: {name} ...\")\n",
    "    gs = GridSearchCV(\n",
    "        estimator=pipe,\n",
    "        param_grid=param_grid,\n",
    "        scoring=\"f1\",\n",
    "        cv=5,\n",
    "        n_jobs=-1,\n",
    "        refit=True,\n",
    "        verbose=0\n",
    "    )\n",
    "    t0 = time.time()\n",
    "    gs.fit(X_train, y_train)\n",
    "    t1 = time.time()\n",
    "\n",
    "    best_models[name] = gs.best_estimator_\n",
    "\n",
    "    y_pred_tr = gs.predict(X_train)\n",
    "    y_pred_te = gs.predict(X_test)\n",
    "\n",
    "    rows.append({\n",
    "        \"Model\": name,\n",
    "        \"Best Params\": gs.best_params_,\n",
    "        \"CV Best F1\": round(gs.best_score_, 3),\n",
    "        \"Train F1\": round(f1_score(y_train, y_pred_tr), 3),\n",
    "        \"Test F1\": round(f1_score(y_test, y_pred_te), 3),\n",
    "        \"Train Acc\": round(accuracy_score(y_train, y_pred_tr), 3),\n",
    "        \"Test Acc\": round(accuracy_score(y_test, y_pred_te), 3),\n",
    "        \"Test Recall (Yes)\": round(recall_score(y_test, y_pred_te), 3),   # 👈 INSERTED HERE\n",
    "        \"Fit Time (s)\": round(t1 - t0, 2)\n",
    "    })\n",
    "\n",
    "results_df = pd.DataFrame(rows).sort_values(by=\"Test F1\", ascending=False)\n",
    "results_df\n"
   ]
  },
  {
   "cell_type": "code",
   "execution_count": 71,
   "metadata": {},
   "outputs": [
    {
     "name": "stdout",
     "output_type": "stream",
     "text": [
      "Best by Test F1: Logistic Regression (balanced)\n",
      "Best Params: {'memory': None, 'steps': [('preprocessor', ColumnTransformer(transformers=[('num', StandardScaler(), ['age']),\n",
      "                                ('cat', OneHotEncoder(handle_unknown='ignore'),\n",
      "                                 ['job', 'marital', 'education', 'default',\n",
      "                                  'housing', 'loan'])])), ('classifier', LogisticRegression(C=10, class_weight='balanced', max_iter=1000))], 'transform_input': None, 'verbose': False, 'preprocessor': ColumnTransformer(transformers=[('num', StandardScaler(), ['age']),\n",
      "                                ('cat', OneHotEncoder(handle_unknown='ignore'),\n",
      "                                 ['job', 'marital', 'education', 'default',\n",
      "                                  'housing', 'loan'])]), 'classifier': LogisticRegression(C=10, class_weight='balanced', max_iter=1000), 'preprocessor__force_int_remainder_cols': 'deprecated', 'preprocessor__n_jobs': None, 'preprocessor__remainder': 'drop', 'preprocessor__sparse_threshold': 0.3, 'preprocessor__transformer_weights': None, 'preprocessor__transformers': [('num', StandardScaler(), ['age']), ('cat', OneHotEncoder(handle_unknown='ignore'), ['job', 'marital', 'education', 'default', 'housing', 'loan'])], 'preprocessor__verbose': False, 'preprocessor__verbose_feature_names_out': True, 'preprocessor__num': StandardScaler(), 'preprocessor__cat': OneHotEncoder(handle_unknown='ignore'), 'preprocessor__num__copy': True, 'preprocessor__num__with_mean': True, 'preprocessor__num__with_std': True, 'preprocessor__cat__categories': 'auto', 'preprocessor__cat__drop': None, 'preprocessor__cat__dtype': <class 'numpy.float64'>, 'preprocessor__cat__feature_name_combiner': 'concat', 'preprocessor__cat__handle_unknown': 'ignore', 'preprocessor__cat__max_categories': None, 'preprocessor__cat__min_frequency': None, 'preprocessor__cat__sparse_output': True, 'classifier__C': 10, 'classifier__class_weight': 'balanced', 'classifier__dual': False, 'classifier__fit_intercept': True, 'classifier__intercept_scaling': 1, 'classifier__l1_ratio': None, 'classifier__max_iter': 1000, 'classifier__multi_class': 'deprecated', 'classifier__n_jobs': None, 'classifier__penalty': 'l2', 'classifier__random_state': None, 'classifier__solver': 'lbfgs', 'classifier__tol': 0.0001, 'classifier__verbose': 0, 'classifier__warm_start': False}\n",
      "\n",
      "Classification Report (Test):\n",
      "\n",
      "              precision    recall  f1-score   support\n",
      "\n",
      "           0       0.93      0.59      0.72     10965\n",
      "           1       0.16      0.62      0.26      1392\n",
      "\n",
      "    accuracy                           0.59     12357\n",
      "   macro avg       0.54      0.61      0.49     12357\n",
      "weighted avg       0.84      0.59      0.67     12357\n",
      "\n"
     ]
    }
   ],
   "source": [
    "best_name = results_df.iloc[0][\"Model\"]\n",
    "print(f\"Best by Test F1: {best_name}\\nBest Params: {best_models[best_name].get_params()}\")\n",
    "\n",
    "y_pred_best = best_models[best_name].predict(X_test)\n",
    "print(\"\\nClassification Report (Test):\\n\")\n",
    "print(classification_report(y_test, y_pred_best))\n"
   ]
  },
  {
   "cell_type": "code",
   "execution_count": 73,
   "metadata": {},
   "outputs": [
    {
     "data": {
      "image/png": "[encoded data removed]",
      "text/plain": [
       "<Figure size 1000x600 with 1 Axes>"
      ]
     },
     "metadata": {},
     "output_type": "display_data"
    }
   ],
   "source": [
    "import matplotlib.pyplot as plt\n",
    "import numpy as np\n",
    "\n",
    "metrics = [\"Test Acc\", \"Test F1\", \"Test Recall (Yes)\"]\n",
    "colors = [\"#1f77b4\", \"#ff7f0e\", \"#2ca02c\"]  # blue, orange, green\n",
    "\n",
    "x = np.arange(len(results_df[\"Model\"]))  # model positions\n",
    "width = 0.25\n",
    "\n",
    "plt.figure(figsize=(10,6))\n",
    "\n",
    "for i, metric in enumerate(metrics):\n",
    "    plt.bar(x + i*width - width, results_df[metric], width, label=metric, color=colors[i])\n",
    "\n",
    "plt.xticks(x, results_df[\"Model\"], rotation=30, ha=\"right\")\n",
    "plt.ylabel(\"Score\")\n",
    "plt.title(\"Model Comparison: Accuracy, F1, and Recall (Yes Class)\")\n",
    "plt.legend()\n",
    "plt.tight_layout()\n",
    "plt.show()\n"
   ]
  },
  {
   "cell_type": "code",
   "execution_count": null,
   "metadata": {},
   "outputs": [],
   "source": [
    "import numpy as np\n",
    "import matplotlib.pyplot as plt\n",
    "\n",
    "# Auto-detect the metrics we want (only plot those that exist)\n",
    "metrics = [m for m in [\"Test Acc\", \"Test F1\", \"Test Recall (Yes)\"] if m in results_df.columns]\n",
    "assert metrics, \"No plotable test metrics found in results_df.\"\n",
    "\n",
    "# (Optional) sort by Test F1 if present, otherwise by Test Acc\n",
    "sort_key = \"Test F1\" if \"Test F1\" in results_df.columns else \"Test Acc\"\n",
    "plot_df = results_df.sort_values(by=sort_key, ascending=False).reset_index(drop=True)\n",
    "\n",
    "x = np.arange(len(plot_df))                 # model positions\n",
    "k = len(metrics)\n",
    "width = 0.8 / k                             # total bar group width ~0.8\n",
    "\n",
    "plt.figure(figsize=(10,6))\n",
    "\n",
    "for i, m in enumerate(metrics):\n",
    "    # center the grouped bars around each x position\n",
    "    offsets = (i - (k-1)/2) * width\n",
    "    plt.bar(x + offsets, plot_df[m], width, label=m)\n",
    "\n",
    "plt.xticks(x, plot_df[\"Model\"], rotation=30, ha=\"right\")\n",
    "plt.ylabel(\"Score\")\n",
    "plt.title(\"Model Comparison: Test Metrics\")\n",
    "plt.legend()\n",
    "plt.tight_layout()\n",
    "plt.show()\n"
   ]
  },
  {
   "cell_type": "markdown",
   "metadata": {},
   "source": [
    "## Technical Summary\n",
    "\n",
    "Although multiple models achieved similar accuracy, the model with the highest F1-score (Logistic Regression (balanced)) is the most valuable for the bank. This model is better at identifying customers who are likely to subscribe to a term deposit — the true business objective. Even though its overall accuracy is lower, its ability to capture more “yes” responses makes it the superior choice for guiding future marketing campaigns.\n",
    "\n",
    "In practice, using a model like Logistic Regression (balanced) allows the bank to focus its marketing efforts \n",
    "on customers who are most likely to subscribe. This not only improves campaign effectiveness but also reduces\n",
    "wasted resources and costs associated with contacting uninterested clients."
   ]
  },
  {
   "cell_type": "markdown",
   "metadata": {},
   "source": [
    "## Business Takeaway\n",
    "\n",
    "From a business perspective, the goal is not just to predict the majority of customers who will decline a term deposit, but to correctly identify the smaller group of customers who are likely to say “yes.”\n",
    "\n",
    "While KNN and Decision Trees showed slightly higher accuracy, these models failed to capture the minority class effectively. After adjusting for class imbalance and tuning hyperparameters, Logistic Regression with balanced class weights emerged as the most effective model, achieving the best F1-score (≈25.6%).\n",
    "\n",
    "This means that, for the bank, Logistic Regression is the most useful choice because it can identify a larger portion of potential subscribers. Although the overall accuracy is lower, the business benefit comes from being able to target customers who are more likely to respond positively to a campaign — which directly supports the bank’s marketing objectives."
   ]
  },
  {
   "cell_type": "code",
   "execution_count": null,
   "metadata": {},
   "outputs": [],
   "source": []
  }
 ],
 "metadata": {
  "kernelspec": {
   "display_name": "Python [conda env:base] *",
   "language": "python",
   "name": "conda-base-py"
  },
  "language_info": {
   "codemirror_mode": {
    "name": "ipython",
    "version": 3
   },
   "file_extension": ".py",
   "mimetype": "text/x-python",
   "name": "python",
   "nbconvert_exporter": "python",
   "pygments_lexer": "ipython3",
   "version": "3.11.7"
  },
  "widgets": {
   "application/vnd.jupyter.widget-state+json": {
    "state": {},
    "version_major": 2,
    "version_minor": 0
   }
  }
 },
 "nbformat": 4,
 "nbformat_minor": 4
}
